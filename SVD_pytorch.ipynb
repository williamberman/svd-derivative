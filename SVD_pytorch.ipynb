{
 "cells": [
  {
   "cell_type": "code",
   "execution_count": 1,
   "id": "2ea7ed79",
   "metadata": {},
   "outputs": [],
   "source": [
    "import torch\n",
    "from torch.linalg import svd, svdvals\n",
    "from jax import random"
   ]
  },
  {
   "cell_type": "code",
   "execution_count": 2,
   "id": "6632af7b",
   "metadata": {},
   "outputs": [
    {
     "name": "stderr",
     "output_type": "stream",
     "text": [
      "WARNING:absl:No GPU/TPU found, falling back to CPU. (Set TF_CPP_MIN_LOG_LEVEL=0 and rerun for more info.)\n"
     ]
    }
   ],
   "source": [
    "key = random.PRNGKey(0)\n",
    "A_key, A_tangent_key, U_cotangent_key, S_cotangent_key, Vh_cotangent_key, Vh_partial_cotangent_key = random.split(key, 6)\n",
    "\n",
    "A = torch.tensor(random.normal(A_key, (3, 4)).tolist(), requires_grad=True)\n",
    "U_cotangent = torch.tensor(random.normal(U_cotangent_key, (3, 3)).tolist())\n",
    "S_cotangent = torch.tensor(random.normal(S_cotangent_key, (3,)).tolist())\n",
    "Vh_cotangent = torch.tensor(random.normal(Vh_cotangent_key, (4, 4)).tolist())\n",
    "Vh_partial_cotangent = torch.tensor(random.normal(Vh_partial_cotangent_key, (3, 4)).tolist())"
   ]
  },
  {
   "cell_type": "code",
   "execution_count": 3,
   "id": "719c1c8a",
   "metadata": {},
   "outputs": [
    {
     "name": "stdout",
     "output_type": "stream",
     "text": [
      "tensor([[-0.5948, -0.4035,  0.5537,  0.4994],\n",
      "        [-0.8024, -1.3047, -1.6165,  0.2732],\n",
      "        [-0.6873,  0.4105, -2.5171,  1.7582]], requires_grad=True)\n",
      "tensor([[ 1.5044,  0.8469, -0.9443],\n",
      "        [-1.2587, -0.2435, -0.4819],\n",
      "        [ 0.0321, -1.2323, -0.0920]])\n",
      "tensor([-0.5422,  0.2727,  1.6822])\n",
      "tensor([[-1.3283,  0.7636,  0.4779, -0.7179],\n",
      "        [ 0.7886,  0.4387, -2.4607,  0.4564],\n",
      "        [-0.4634, -0.8441,  0.3505,  0.6166],\n",
      "        [-0.1893, -1.3674, -0.0442,  1.3954]])\n",
      "tensor([[-1.7423,  1.2947,  0.4945, -0.0816],\n",
      "        [-0.0124, -0.3420,  0.9646, -0.6674],\n",
      "        [ 0.6364, -1.9037, -0.3030,  0.8403]])\n"
     ]
    }
   ],
   "source": [
    "print(A)\n",
    "print(U_cotangent)\n",
    "print(S_cotangent)\n",
    "print(Vh_cotangent)\n",
    "print(Vh_partial_cotangent)"
   ]
  },
  {
   "cell_type": "code",
   "execution_count": 4,
   "id": "8a0848f8",
   "metadata": {},
   "outputs": [
    {
     "name": "stdout",
     "output_type": "stream",
     "text": [
      "\n",
      "tensor([[-0.7083, -1.2774, -0.4001,  0.0017],\n",
      "        [-0.3437,  0.1760,  0.4340,  0.6456],\n",
      "        [ 0.0674, -0.2085, -0.1513, -0.2763]])\n",
      "tensor([[-1.5526, -1.4389,  0.4797,  1.0719],\n",
      "        [-0.1589,  0.0180,  0.4764,  0.2073],\n",
      "        [ 0.1243, -0.0631,  0.3610, -0.2964]])\n",
      "tensor([[-0.4935, -0.3076,  0.2198,  1.3187],\n",
      "        [ 0.8525,  0.2234, -0.3413, -1.1965],\n",
      "        [-0.6520,  0.7924,  0.8375,  0.5926]])\n"
     ]
    }
   ],
   "source": [
    "# svd full\n",
    "U, S, Vh = svd(A, full_matrices = True)\n",
    "print()\n",
    "U.backward(U_cotangent, retain_graph=True)\n",
    "print(A.grad)\n",
    "S.backward(S_cotangent, retain_graph=True)\n",
    "print(A.grad)\n",
    "Vh.backward(Vh_cotangent, retain_graph=True)\n",
    "print(A.grad)"
   ]
  },
  {
   "cell_type": "code",
   "execution_count": 5,
   "id": "85ca3aa5",
   "metadata": {},
   "outputs": [],
   "source": [
    "A.grad = None"
   ]
  },
  {
   "cell_type": "code",
   "execution_count": 6,
   "id": "b17616c8",
   "metadata": {},
   "outputs": [
    {
     "name": "stdout",
     "output_type": "stream",
     "text": [
      "tensor([[-0.7083, -1.2774, -0.4001,  0.0017],\n",
      "        [-0.3437,  0.1760,  0.4340,  0.6456],\n",
      "        [ 0.0674, -0.2085, -0.1513, -0.2763]])\n",
      "tensor([[-1.5526, -1.4389,  0.4797,  1.0719],\n",
      "        [-0.1589,  0.0180,  0.4764,  0.2073],\n",
      "        [ 0.1243, -0.0631,  0.3610, -0.2964]])\n",
      "tensor([[ 0.0635, -1.4800,  0.3604,  1.9311],\n",
      "        [-0.3005,  0.1542, -0.1228, -0.8199],\n",
      "        [-0.3708, -0.0620,  0.7534,  0.0474]])\n"
     ]
    }
   ],
   "source": [
    "# svd partial\n",
    "U, S, Vh = svd(A, full_matrices = False)\n",
    "U.backward(U_cotangent, retain_graph=True)\n",
    "print(A.grad)\n",
    "S.backward(S_cotangent, retain_graph=True)\n",
    "print(A.grad)\n",
    "Vh.backward(Vh_partial_cotangent, retain_graph=True)\n",
    "print(A.grad)"
   ]
  },
  {
   "cell_type": "code",
   "execution_count": 7,
   "id": "8392670a",
   "metadata": {},
   "outputs": [],
   "source": [
    "A.grad = None"
   ]
  },
  {
   "cell_type": "code",
   "execution_count": 8,
   "id": "367213e8",
   "metadata": {},
   "outputs": [
    {
     "name": "stdout",
     "output_type": "stream",
     "text": [
      "tensor([[-0.8443, -0.1615,  0.8797,  1.0702],\n",
      "        [ 0.1848, -0.1580,  0.0424, -0.4382],\n",
      "        [ 0.0569,  0.1454,  0.5123, -0.0201]])\n"
     ]
    }
   ],
   "source": [
    "# svd singular values\n",
    "S = svdvals(A)\n",
    "S.backward(S_cotangent, retain_graph=True)\n",
    "print(A.grad)"
   ]
  }
 ],
 "metadata": {
  "kernelspec": {
   "display_name": "Python 3 (ipykernel)",
   "language": "python",
   "name": "python3"
  },
  "language_info": {
   "codemirror_mode": {
    "name": "ipython",
    "version": 3
   },
   "file_extension": ".py",
   "mimetype": "text/x-python",
   "name": "python",
   "nbconvert_exporter": "python",
   "pygments_lexer": "ipython3",
   "version": "3.9.12"
  }
 },
 "nbformat": 4,
 "nbformat_minor": 5
}
