{
 "cells": [
  {
   "cell_type": "code",
   "execution_count": 1,
   "id": "ddef0776",
   "metadata": {},
   "outputs": [],
   "source": [
    "from jax import jvp, vjp, random\n",
    "import jax.numpy as jnp"
   ]
  },
  {
   "cell_type": "code",
   "execution_count": 2,
   "id": "21c304de",
   "metadata": {},
   "outputs": [
    {
     "name": "stderr",
     "output_type": "stream",
     "text": [
      "WARNING:absl:No GPU/TPU found, falling back to CPU. (Set TF_CPP_MIN_LOG_LEVEL=0 and rerun for more info.)\n"
     ]
    }
   ],
   "source": [
    "key = random.PRNGKey(0)\n",
    "A_key, A_tangent_key, U_cotangent_key, S_cotangent_key, Vh_cotangent_key, Vh_partial_cotangent_key = random.split(key, 6)\n",
    "\n",
    "A = random.normal(A_key, (3, 4))\n",
    "A_tangent = random.normal(A_tangent_key, A.shape)\n",
    "U_cotangent = random.normal(U_cotangent_key, (3, 3))\n",
    "S_cotangent = random.normal(S_cotangent_key, (3,))\n",
    "Vh_cotangent = random.normal(Vh_cotangent_key, (4, 4))\n",
    "Vh_partial_cotangent = random.normal(Vh_partial_cotangent_key, (3, 4))"
   ]
  },
  {
   "cell_type": "code",
   "execution_count": 3,
   "id": "436c60d2",
   "metadata": {},
   "outputs": [
    {
     "name": "stdout",
     "output_type": "stream",
     "text": [
      "[[-0.5948281  -0.40346822  0.55371755  0.49942812]\n",
      " [-0.80238426 -1.3047416  -1.61652     0.27323487]\n",
      " [-0.68734825  0.41053954 -2.517128    1.7581573 ]]\n",
      "[[-1.4027991   0.14532632  1.9614642  -1.2714893 ]\n",
      " [-1.1409343  -1.7149451   0.25800338 -1.1909169 ]\n",
      " [ 0.48682007  0.08552241 -2.8392208  -1.9545186 ]]\n",
      "[[ 1.5043879   0.84688544 -0.9443146 ]\n",
      " [-1.2586974  -0.24351463 -0.48190218]\n",
      " [ 0.03214358 -1.2323356  -0.09203631]]\n",
      "[-0.54219013  0.2726896   1.6822213 ]\n",
      "[[-1.3283378   0.7635682   0.47792315 -0.71792597]\n",
      " [ 0.7886467   0.4386686  -2.4607036   0.4564042 ]\n",
      " [-0.463435   -0.8441072   0.3504501   0.61656743]\n",
      " [-0.18929946 -1.3674479  -0.04416634  1.3953555 ]]\n",
      "[[-1.7422994   1.2946855   0.49448735 -0.08164447]\n",
      " [-0.01237171 -0.34202918  0.964581   -0.6673679 ]\n",
      " [ 0.63641965 -1.9036711  -0.30302268  0.8402989 ]]\n"
     ]
    }
   ],
   "source": [
    "print(A)\n",
    "print(A_tangent)\n",
    "print(U_cotangent)\n",
    "print(S_cotangent)\n",
    "print(Vh_cotangent)\n",
    "print(Vh_partial_cotangent)"
   ]
  },
  {
   "cell_type": "code",
   "execution_count": 4,
   "id": "6ff8c709",
   "metadata": {},
   "outputs": [
    {
     "name": "stdout",
     "output_type": "stream",
     "text": [
      "Singular value decomposition JVP not implemented for full matrices\n",
      "Singular value decomposition JVP not implemented for full matrices\n"
     ]
    }
   ],
   "source": [
    "# svd full\n",
    "svd_full = lambda A: jnp.linalg.svd(A, full_matrices = True)\n",
    "\n",
    "try:\n",
    "    jvp(svd_full, (A,), (A_tangent,))\n",
    "except NotImplementedError as e:\n",
    "    print(e)\n",
    "\n",
    "try:\n",
    "    out, vjp_fun = vjp(svd_full, A)\n",
    "    vjp_fun((U_cotangent, S_cotangent, Vh_cotangent))\n",
    "except NotImplementedError as e:\n",
    "    print(e)"
   ]
  },
  {
   "cell_type": "code",
   "execution_count": 5,
   "id": "5da69d00",
   "metadata": {},
   "outputs": [
    {
     "name": "stdout",
     "output_type": "stream",
     "text": [
      "svd partial jvp\n",
      "----------\n",
      "U [[-0.00941738  0.24955875  0.96831393]\n",
      " [ 0.5082209   0.83515656 -0.21029788]\n",
      " [ 0.8611754  -0.49013692  0.1346958 ]]\n",
      "S [3.5728412  1.5581862  0.99071205]\n",
      "Vh [[-0.278242   -0.0855764  -0.83811533  0.4613254 ]\n",
      " [-0.30912    -0.8930728   0.0140388  -0.32660246]\n",
      " [-0.5045093  -0.06157321  0.54211146  0.66917413]]\n",
      "U tangent [[-0.7349052   1.4758277  -0.38750508]\n",
      " [-0.06396279 -0.19327536 -0.922132  ]\n",
      " [ 0.02971101  0.42210707  1.3460248 ]]\n",
      "S tangent [1.0140587 1.9056993 0.460028 ]\n",
      "Vh tangent [[ 0.16871683 -0.08966165 -0.52082837 -0.861091  ]\n",
      " [-1.2613225   0.06035677  1.3714367   1.0877167 ]\n",
      " [-0.78280795  2.4763026  -0.90722877  0.37263733]]\n",
      "\n",
      "svd partial vjp\n",
      "----------\n",
      "U [[-0.00941738  0.24955875  0.96831393]\n",
      " [ 0.5082209   0.83515656 -0.21029788]\n",
      " [ 0.8611754  -0.49013692  0.1346958 ]]\n",
      "S [3.5728412  1.5581862  0.99071205]\n",
      "Vh [[-0.278242   -0.0855764  -0.83811533  0.4613254 ]\n",
      " [-0.30912    -0.8930728   0.0140388  -0.32660246]\n",
      " [-0.5045093  -0.06157321  0.54211146  0.66917413]]\n",
      "A cotangent (DeviceArray([[ 0.06349075, -1.4799826 ,  0.36044574,  1.9310911 ],\n",
      "             [-0.3005355 ,  0.15419722, -0.12283693, -0.81992114],\n",
      "             [-0.3707854 , -0.06201036,  0.7533768 ,  0.04743708]],            dtype=float32),)\n"
     ]
    }
   ],
   "source": [
    "# svd partial\n",
    "svd_partial = lambda A: jnp.linalg.svd(A, full_matrices = False)\n",
    "\n",
    "(U, S, Vh), (U_tangent, S_tangent, Vh_tangent) = jvp(svd_partial, (A,), (A_tangent,))\n",
    "\n",
    "print('svd partial jvp')\n",
    "print('----------')\n",
    "print(f'U {U}')\n",
    "print(f'S {S}')\n",
    "print(f'Vh {Vh}')\n",
    "print(f'U tangent {U_tangent}')\n",
    "print(f'S tangent {S_tangent}')\n",
    "print(f'Vh tangent {Vh_tangent}')\n",
    "\n",
    "(U, S, Vh), vjp_fun = vjp(svd_partial, A)\n",
    "A_cotangent = vjp_fun((U_cotangent, S_cotangent, Vh_partial_cotangent))\n",
    "\n",
    "print()\n",
    "print('svd partial vjp')\n",
    "print('----------')\n",
    "print(f'U {U}')\n",
    "print(f'S {S}')\n",
    "print(f'Vh {Vh}')\n",
    "print(f'A cotangent {A_cotangent}')\n"
   ]
  },
  {
   "cell_type": "code",
   "execution_count": 6,
   "id": "cda0df26",
   "metadata": {},
   "outputs": [
    {
     "name": "stdout",
     "output_type": "stream",
     "text": [
      "svd singular values jvp\n",
      "S [3.5728412  1.5581862  0.99071205]\n",
      "S_tangent [1.0140587 1.9056993 0.460028 ]\n",
      "\n",
      "svd singular values vjp\n",
      "S [3.5728412  1.5581862  0.99071205]\n",
      "A cotangent (DeviceArray([[-0.84426147, -0.16151014,  0.87973124,  1.0701596 ],\n",
      "             [ 0.18475075, -0.15802369,  0.04236039, -0.43823138],\n",
      "             [ 0.05691664,  0.1453695 ,  0.51229316, -0.02012339]],            dtype=float32),)\n"
     ]
    }
   ],
   "source": [
    "# svd singular values\n",
    "svd_singular_values = lambda A: jnp.linalg.svd(A, compute_uv = False)\n",
    "\n",
    "S, S_tangent = jvp(svd_singular_values, (A,), (A_tangent,))\n",
    "\n",
    "print('svd singular values jvp')\n",
    "print(f'S {S}')\n",
    "print(f'S_tangent {S_tangent}')\n",
    "\n",
    "S, vjp_fun = vjp(svd_singular_values, A)\n",
    "A_cotangent = vjp_fun(S_cotangent)\n",
    "\n",
    "print()\n",
    "print('svd singular values vjp')\n",
    "print(f'S {S}')\n",
    "print(f'A cotangent {A_cotangent}')"
   ]
  }
 ],
 "metadata": {
  "kernelspec": {
   "display_name": "Python 3 (ipykernel)",
   "language": "python",
   "name": "python3"
  },
  "language_info": {
   "codemirror_mode": {
    "name": "ipython",
    "version": 3
   },
   "file_extension": ".py",
   "mimetype": "text/x-python",
   "name": "python",
   "nbconvert_exporter": "python",
   "pygments_lexer": "ipython3",
   "version": "3.9.12"
  }
 },
 "nbformat": 4,
 "nbformat_minor": 5
}
