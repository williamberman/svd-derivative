{
 "cells": [
  {
   "cell_type": "code",
   "execution_count": 1,
   "id": "ddef0776",
   "metadata": {},
   "outputs": [],
   "source": [
    "from jax import jvp, vjp, random\n",
    "import jax.numpy as jnp"
   ]
  },
  {
   "cell_type": "code",
   "execution_count": 2,
   "id": "21c304de",
   "metadata": {},
   "outputs": [
    {
     "name": "stderr",
     "output_type": "stream",
     "text": [
      "WARNING:absl:No GPU/TPU found, falling back to CPU. (Set TF_CPP_MIN_LOG_LEVEL=0 and rerun for more info.)\n"
     ]
    }
   ],
   "source": [
    "key = random.PRNGKey(0)\n",
    "A_key, A_tangent_key, U_cotangent_key, S_cotangent_key, Vh_cotangent_key, Vh_partial_cotangent_key = random.split(key, 6)\n",
    "\n",
    "A = random.normal(A_key, (3, 4))\n",
    "A_tangent = random.normal(A_tangent_key, A.shape)\n",
    "U_cotangent = random.normal(U_cotangent_key, (3, 3))\n",
    "S_cotangent = random.normal(S_cotangent_key, (3,))\n",
    "Vh_cotangent = random.normal(Vh_cotangent_key, (4, 4))\n",
    "Vh_partial_cotangent = random.normal(Vh_partial_cotangent_key, (3, 4))"
   ]
  },
  {
   "cell_type": "code",
   "execution_count": 3,
   "id": "06ce24e8",
   "metadata": {},
   "outputs": [],
   "source": [
    "A_complex = random.normal(key, (3, 4), dtype=jnp.complex64)\n",
    "A_complex_tangent = random.normal(A_tangent_key, A.shape, dtype=jnp.complex64)\n",
    "U_complex_cotangent = random.normal(U_cotangent_key, (3, 3), dtype=jnp.complex64)\n",
    "Vh_partial_complex_cotangent = random.normal(Vh_partial_cotangent_key, (3, 4), dtype=jnp.complex64)"
   ]
  },
  {
   "cell_type": "code",
   "execution_count": 4,
   "id": "436c60d2",
   "metadata": {},
   "outputs": [
    {
     "name": "stdout",
     "output_type": "stream",
     "text": [
      "[[-0.5948281  -0.40346822  0.55371755  0.49942812]\n",
      " [-0.80238426 -1.3047416  -1.61652     0.27323487]\n",
      " [-0.68734825  0.41053954 -2.517128    1.7581573 ]]\n",
      "[[-1.4027991   0.14532632  1.9614642  -1.2714893 ]\n",
      " [-1.1409343  -1.7149451   0.25800338 -1.1909169 ]\n",
      " [ 0.48682007  0.08552241 -2.8392208  -1.9545186 ]]\n",
      "[[ 1.5043879   0.84688544 -0.9443146 ]\n",
      " [-1.2586974  -0.24351463 -0.48190218]\n",
      " [ 0.03214358 -1.2323356  -0.09203631]]\n",
      "[-0.54219013  0.2726896   1.6822213 ]\n",
      "[[-1.3283378   0.7635682   0.47792315 -0.71792597]\n",
      " [ 0.7886467   0.4386686  -2.4607036   0.4564042 ]\n",
      " [-0.463435   -0.8441072   0.3504501   0.61656743]\n",
      " [-0.18929946 -1.3674479  -0.04416634  1.3953555 ]]\n",
      "[[-1.7422994   1.2946855   0.49448735 -0.08164447]\n",
      " [-0.01237171 -0.34202918  0.964581   -0.6673679 ]\n",
      " [ 0.63641965 -1.9036711  -0.30302268  0.8402989 ]]\n",
      "\n",
      "[[ 0.7336411 -0.10191857j  0.56479377+0.63291544j -0.08825744-0.32553858j\n",
      "   0.05573531+0.07426979j]\n",
      " [ 0.01897411-0.5275643j   0.18790561+0.634141j   -0.48085934+0.27431592j\n",
      "   0.8664533 +0.08308976j]\n",
      " [-0.24939662+0.75373214j -0.90827006+0.16020839j  0.0958594 -1.8022666j\n",
      "   0.14701375+1.3930302j ]]\n",
      "[[-0.2065385 -0.6135634j  -1.4030118 +1.0846603j  -0.00283572-0.61448085j\n",
      "   1.53614   -0.2881217j ]\n",
      " [-0.04763878-0.7398905j  -0.1082688 +0.44244006j -1.321083  -1.3272344j\n",
      "  -0.3060009 -1.3216692j ]\n",
      " [-0.51806974-0.5958252j   1.2926512 -0.01746657j -0.83231384+0.21786512j\n",
      "  -1.7075964 +0.42018956j]]\n",
      "[[-0.9567169 +0.75050235j  0.00656629-0.3063847j   0.24902128+0.48518807j]\n",
      " [ 0.19072373-0.21354389j -0.52742755-0.63408214j -2.022446  -1.5313334j ]\n",
      " [ 0.06458268+0.14607662j -0.95425785+0.13570184j  0.35388908+0.36149988j]]\n",
      "[[ 0.22248764-0.30201775j  1.6088499 +0.46811366j  0.07085659-0.43140864j\n",
      "   0.38170975-0.41216674j]\n",
      " [ 0.23895602+0.76992816j -1.0888183 +0.3185531j  -0.23720232-0.14847694j\n",
      "  -0.28003365+0.2754667j ]\n",
      " [ 0.7602658 -1.155865j    0.6889348 -0.8579987j   0.6226699 +0.25349888j\n",
      "  -0.47583464+0.9231702j ]]\n"
     ]
    }
   ],
   "source": [
    "print(A)\n",
    "print(A_tangent)\n",
    "print(U_cotangent)\n",
    "print(S_cotangent)\n",
    "print(Vh_cotangent)\n",
    "print(Vh_partial_cotangent)\n",
    "print()\n",
    "print(A_complex)\n",
    "print(A_complex_tangent)\n",
    "print(U_complex_cotangent)\n",
    "print(Vh_partial_complex_cotangent)"
   ]
  },
  {
   "cell_type": "code",
   "execution_count": 5,
   "id": "6ff8c709",
   "metadata": {},
   "outputs": [
    {
     "name": "stdout",
     "output_type": "stream",
     "text": [
      "Singular value decomposition JVP not implemented for full matrices\n",
      "Singular value decomposition JVP not implemented for full matrices\n"
     ]
    }
   ],
   "source": [
    "# svd full\n",
    "svd_full = lambda A: jnp.linalg.svd(A, full_matrices = True)\n",
    "\n",
    "try:\n",
    "    jvp(svd_full, (A,), (A_tangent,))\n",
    "except NotImplementedError as e:\n",
    "    print(e)\n",
    "\n",
    "try:\n",
    "    out, vjp_fun = vjp(svd_full, A)\n",
    "    vjp_fun((U_cotangent, S_cotangent, Vh_cotangent))\n",
    "except NotImplementedError as e:\n",
    "    print(e)"
   ]
  },
  {
   "cell_type": "code",
   "execution_count": 6,
   "id": "5da69d00",
   "metadata": {},
   "outputs": [
    {
     "name": "stdout",
     "output_type": "stream",
     "text": [
      "svd partial jvp\n",
      "----------\n",
      "U [[-0.00941738  0.24955875  0.96831393]\n",
      " [ 0.5082209   0.83515656 -0.21029788]\n",
      " [ 0.8611754  -0.49013692  0.1346958 ]]\n",
      "S [3.5728412  1.5581862  0.99071205]\n",
      "Vh [[-0.278242   -0.0855764  -0.83811533  0.4613254 ]\n",
      " [-0.30912    -0.8930728   0.0140388  -0.32660246]\n",
      " [-0.5045093  -0.06157321  0.54211146  0.66917413]]\n",
      "U tangent [[-0.7349052   1.4758277  -0.38750508]\n",
      " [-0.06396279 -0.19327536 -0.922132  ]\n",
      " [ 0.02971101  0.42210707  1.3460248 ]]\n",
      "S tangent [1.0140587 1.9056993 0.460028 ]\n",
      "Vh tangent [[ 0.16871683 -0.08966165 -0.52082837 -0.861091  ]\n",
      " [-1.2613225   0.06035677  1.3714367   1.0877167 ]\n",
      " [-0.78280795  2.4763026  -0.90722877  0.37263733]]\n",
      "\n",
      "svd partial vjp\n",
      "----------\n",
      "U [[-0.00941738  0.24955875  0.96831393]\n",
      " [ 0.5082209   0.83515656 -0.21029788]\n",
      " [ 0.8611754  -0.49013692  0.1346958 ]]\n",
      "S [3.5728412  1.5581862  0.99071205]\n",
      "Vh [[-0.278242   -0.0855764  -0.83811533  0.4613254 ]\n",
      " [-0.30912    -0.8930728   0.0140388  -0.32660246]\n",
      " [-0.5045093  -0.06157321  0.54211146  0.66917413]]\n",
      "A cotangent (DeviceArray([[ 0.06349075, -1.4799826 ,  0.36044574,  1.9310911 ],\n",
      "             [-0.3005355 ,  0.15419722, -0.12283693, -0.81992114],\n",
      "             [-0.3707854 , -0.06201036,  0.7533768 ,  0.04743708]],            dtype=float32),)\n"
     ]
    }
   ],
   "source": [
    "# svd partial\n",
    "svd_partial = lambda A: jnp.linalg.svd(A, full_matrices = False)\n",
    "\n",
    "(U, S, Vh), (U_tangent, S_tangent, Vh_tangent) = jvp(svd_partial, (A,), (A_tangent,))\n",
    "\n",
    "print('svd partial jvp')\n",
    "print('----------')\n",
    "print(f'U {U}')\n",
    "print(f'S {S}')\n",
    "print(f'Vh {Vh}')\n",
    "print(f'U tangent {U_tangent}')\n",
    "print(f'S tangent {S_tangent}')\n",
    "print(f'Vh tangent {Vh_tangent}')\n",
    "\n",
    "(U, S, Vh), vjp_fun = vjp(svd_partial, A)\n",
    "A_cotangent = vjp_fun((U_cotangent, S_cotangent, Vh_partial_cotangent))\n",
    "\n",
    "print()\n",
    "print('svd partial vjp')\n",
    "print('----------')\n",
    "print(f'U {U}')\n",
    "print(f'S {S}')\n",
    "print(f'Vh {Vh}')\n",
    "print(f'A cotangent {A_cotangent}')"
   ]
  },
  {
   "cell_type": "code",
   "execution_count": 7,
   "id": "7dc9ef17",
   "metadata": {},
   "outputs": [
    {
     "name": "stdout",
     "output_type": "stream",
     "text": [
      "svd complex partial jvp\n",
      "----------\n",
      "U [[-0.2281194 +0.j         -0.9073931 +0.j         -0.35298648+0.j        ]\n",
      " [-0.3634373 +0.14029288j  0.11066759+0.30014652j -0.04961079-0.86222684j]\n",
      " [-0.05183679-0.8907894j   0.15301481+0.2255862j  -0.35984272-0.00421843j]]\n",
      "S [2.8675003 1.0410173 0.7516529]\n",
      "Vh [[-0.31621838-0.01705552j -0.07107133-0.42496768j  0.6395296 +0.07701501j\n",
      "  -0.5455889 -0.03834333j]\n",
      " [-0.6628872 +0.1921135j  -0.3882717 -0.3180695j  -0.27155653+0.16587569j\n",
      "   0.39096114-0.13282147j]\n",
      " [ 0.37455773-0.25778964j -0.57114327-0.20532715j -0.2772619 +0.44652098j\n",
      "  -0.25687355+0.28748548j]]\n",
      "U tangent [[-0.3339236 -0.36196125j  0.05269506+0.46777248j  0.0803411 +2.6930132j ]\n",
      " [-0.389452  +0.05879164j -2.5306847 -0.09144738j  0.7819139 -0.22791487j]\n",
      " [ 0.1325894 +0.24595134j  0.28041363+1.3849255j   0.3636537 -0.3542684j ]]\n",
      "S tangent [ 0.00767282 -0.4952988  -0.69953513]\n",
      "Vh tangent [[ 0.14872979+0.22677688j -0.05720612+0.25886992j  0.0205351 -0.07315151j\n",
      "  -0.25184682-0.31141382j]\n",
      " [ 0.3680963 +2.0701404j   1.1094236 -1.7965394j  -2.1026921 -0.23219937j\n",
      "  -1.9110823 +0.599954j  ]\n",
      " [ 0.9658816 -2.610564j    0.824434  -2.4280572j   0.8868598 -1.2384651j\n",
      "   1.9537232 +0.82898796j]]\n",
      "\n",
      "svd complex partial vjp\n",
      "----------\n",
      "U [[-0.2281194 +0.j         -0.9073931 +0.j         -0.35298648+0.j        ]\n",
      " [-0.3634373 +0.14029288j  0.11066759+0.30014652j -0.04961079-0.86222684j]\n",
      " [-0.05183679-0.8907894j   0.15301481+0.2255862j  -0.35984272-0.00421843j]]\n",
      "S [2.8675003 1.0410173 0.7516529]\n",
      "Vh [[-0.31621838-0.01705552j -0.07107133-0.42496768j  0.6395296 +0.07701501j\n",
      "  -0.5455889 -0.03834333j]\n",
      " [-0.6628872 +0.1921135j  -0.3882717 -0.3180695j  -0.27155653+0.16587569j\n",
      "   0.39096114-0.13282147j]\n",
      " [ 0.37455773-0.25778964j -0.57114327-0.20532715j -0.2772619 +0.44652098j\n",
      "  -0.25687355+0.28748548j]]\n",
      "A cotangent (DeviceArray([[ 0.40308842-3.6037593j ,  3.7242205 +0.7101805j ,\n",
      "              -0.04184703+2.472136j  , -0.8605958 +2.3458316j ],\n",
      "             [-1.5368296 -1.8652489j , -2.0006442 -0.28810254j,\n",
      "               0.3612269 -1.4104607j ,  0.7482281 +1.6199555j ],\n",
      "             [ 1.6123865 -0.52399695j, -0.37611306+0.778635j  ,\n",
      "              -0.09391674-0.3819107j , -0.8731251 +0.77497494j]],            dtype=complex64),)\n"
     ]
    }
   ],
   "source": [
    "# svd partial complex values\n",
    "(U, S, Vh), (U_tangent, S_tangent, Vh_tangent) = jvp(svd_partial, (A_complex,), (A_complex_tangent,))\n",
    "\n",
    "print('svd complex partial jvp')\n",
    "print('----------')\n",
    "print(f'U {U}')\n",
    "print(f'S {S}')\n",
    "print(f'Vh {Vh}')\n",
    "print(f'U tangent {U_tangent}')\n",
    "print(f'S tangent {S_tangent}')\n",
    "print(f'Vh tangent {Vh_tangent}')\n",
    "\n",
    "(U, S, Vh), vjp_fun = vjp(svd_partial, A_complex)\n",
    "A_complex_cotangent = vjp_fun((U_complex_cotangent, S_cotangent, Vh_partial_complex_cotangent))\n",
    "\n",
    "print()\n",
    "print('svd complex partial vjp')\n",
    "print('----------')\n",
    "print(f'U {U}')\n",
    "print(f'S {S}')\n",
    "print(f'Vh {Vh}')\n",
    "print(f'A cotangent {A_complex_cotangent}')"
   ]
  },
  {
   "cell_type": "code",
   "execution_count": 8,
   "id": "cda0df26",
   "metadata": {},
   "outputs": [
    {
     "name": "stdout",
     "output_type": "stream",
     "text": [
      "svd singular values jvp\n",
      "----------\n",
      "S [3.5728412  1.5581862  0.99071205]\n",
      "S_tangent [1.0140587 1.9056993 0.460028 ]\n",
      "\n",
      "svd singular values vjp\n",
      "----------\n",
      "S [3.5728412  1.5581862  0.99071205]\n",
      "A cotangent (DeviceArray([[-0.84426147, -0.16151014,  0.87973124,  1.0701596 ],\n",
      "             [ 0.18475075, -0.15802369,  0.04236039, -0.43823138],\n",
      "             [ 0.05691664,  0.1453695 ,  0.51229316, -0.02012339]],            dtype=float32),)\n"
     ]
    }
   ],
   "source": [
    "# svd singular values\n",
    "svd_singular_values = lambda A: jnp.linalg.svd(A, compute_uv = False)\n",
    "\n",
    "S, S_tangent = jvp(svd_singular_values, (A,), (A_tangent,))\n",
    "\n",
    "print('svd singular values jvp')\n",
    "print('----------')\n",
    "print(f'S {S}')\n",
    "print(f'S_tangent {S_tangent}')\n",
    "\n",
    "S, vjp_fun = vjp(svd_singular_values, A)\n",
    "A_cotangent = vjp_fun(S_cotangent)\n",
    "\n",
    "print()\n",
    "print('svd singular values vjp')\n",
    "print('----------')\n",
    "print(f'S {S}')\n",
    "print(f'A cotangent {A_cotangent}')"
   ]
  }
 ],
 "metadata": {
  "kernelspec": {
   "display_name": "Python 3 (ipykernel)",
   "language": "python",
   "name": "python3"
  },
  "language_info": {
   "codemirror_mode": {
    "name": "ipython",
    "version": 3
   },
   "file_extension": ".py",
   "mimetype": "text/x-python",
   "name": "python",
   "nbconvert_exporter": "python",
   "pygments_lexer": "ipython3",
   "version": "3.9.12"
  }
 },
 "nbformat": 4,
 "nbformat_minor": 5
}
